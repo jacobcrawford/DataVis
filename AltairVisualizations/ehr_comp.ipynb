{
 "cells": [
  {
   "cell_type": "code",
   "execution_count": 1,
   "outputs": [],
   "source": [
    "\n",
    "import altair as alt\n",
    "import pandas as pd\n",
    "import copy\n",
    "import json\n",
    "alt.data_transformers.enable('csv')\n",
    "alt.renderers.enable('default')\n",
    "\n",
    "vis_size = 400"
   ],
   "metadata": {
    "collapsed": false,
    "pycharm": {
     "name": "#%%\n",
     "is_executing": true
    }
   }
  },
  {
   "cell_type": "code",
   "execution_count": 2,
   "metadata": {
    "tags": [
     "outputPrepend",
     "outputPrepend",
     "outputPrepend"
    ]
   },
   "outputs": [],
   "source": [
    "def normalizeColumn(dataframe, column_name,real_size, synt_size):\n",
    "    df = copy.deepcopy(dataframe)\n",
    "    series = df.groupby([column_name,\"Real\"]).size()\n",
    "    index = series.index\n",
    "    df1 = pd.DataFrame(columns=[column_name,'Real','count','prob'])\n",
    "\n",
    "    for i in range(len(series)):\n",
    "        row = {column_name:index[i][0],'Real':index[i][1], 'count':series[i], 'prob': series[i]}\n",
    "        df1 = df1.append(row, ignore_index=True)\n",
    "\n",
    "    synt = df1[df1['Real']==0]\n",
    "    real = df1[df1['Real']==1]\n",
    "\n",
    "    real['prob'] = real['count'].transform(lambda x: x/real_size)\n",
    "    synt['prob'] = synt['count'].transform(lambda x: x/synt_size)\n",
    "    return real.append(synt)\n",
    "\n",
    "def generateDistributionVisualization(df,size,column,data_type):\n",
    "    selection = alt.selection_multi(fields=['Real'], bind='legend', empty=\"all\")\n",
    "    return alt.Chart(df).mark_bar().encode(\n",
    "        x=alt.X(\n",
    "            field=column,\n",
    "            type=data_type,\n",
    "            sort= \"-y\" if data_type == \"nominal\" else None),\n",
    "        y=alt.Y(\"prob:Q\", stack=None),\n",
    "        color=alt.Color(\n",
    "            'Real:N',\n",
    "            scale=alt.Scale( range=['#af8dc3', '#7fbf7b']), \n",
    "            title=\"Type\",\n",
    "            legend=alt.Legend(labelExpr=\"datum.value == 0 ? 'Synthetic' : 'Real'\")),\n",
    "        opacity=alt.condition(selection, alt.value(0.5), alt.value(0))\n",
    "    ).properties(height=size,width=size, title=column\n",
    "    ).add_selection(\n",
    "        selection\n",
    "    )"
   ]
  },
  {
   "cell_type": "code",
   "execution_count": 3,
   "metadata": {},
   "outputs": [],
   "source": [
    "## GENDER AND YEAROFBIRTH ##\n",
    "df_pop = pd.read_csv(\"../data/CleanData/EHRPatientClean.csv\")\n",
    "\n",
    "real_size = len(df_pop[df_pop.Real==1])\n",
    "synt_size = len(df_pop[df_pop.Real==0])\n",
    "\n",
    "\n",
    "df_year_of_birth = normalizeColumn(df_pop, \"YearOfBirth\",real_size,synt_size)\n",
    "df_gender = normalizeColumn(df_pop, \"Gender\",real_size,synt_size)\n",
    "\n",
    "gender_chart = generateDistributionVisualization(df_gender,vis_size,\"Gender\", \"nominal\")\n",
    "year_of_birth_chart = generateDistributionVisualization(df_year_of_birth,vis_size,\"YearOfBirth\",\"ordinal\")"
   ]
  },
  {
   "cell_type": "code",
   "execution_count": 4,
   "outputs": [],
   "source": [
    "## DIAGNOSIS ##\n",
    "df_diagnosis = pd.read_csv(\"../data/CleanData/EHRDiagnosisClean.csv\")\n",
    "\n",
    "real_diag_size = len(df_diagnosis[df_diagnosis.Real==1])\n",
    "synt_diag_size = len(df_diagnosis[df_diagnosis.Real==0])\n",
    "df_diagnosis = normalizeColumn(df_diagnosis,\"Diagnosis\",real_diag_size, synt_diag_size)\n",
    "\n",
    "diagnosis_chart = generateDistributionVisualization(df_diagnosis,vis_size,\"Diagnosis\",\"nominal\")"
   ],
   "metadata": {
    "collapsed": false,
    "pycharm": {
     "name": "#%%\n"
    }
   }
  },
  {
   "cell_type": "code",
   "execution_count": 5,
   "metadata": {},
   "outputs": [],
   "source": [
    "## ALLERGY ##\n",
    "df2 = pd.read_csv(\"../data/CleanData/EHRAllergyClean.csv\") \n",
    "\n",
    "real_allergy_size = len(df2[df2.Real==1])\n",
    "synt_allergy_size = len(df2[df2.Real==0])\n",
    "\n",
    "df_allergy = normalizeColumn(df2,\"Allergy\", real_allergy_size,synt_allergy_size)\n",
    "allergy_chart = generateDistributionVisualization(df_allergy,vis_size,\"Allergy\",\"nominal\")"
   ]
  },
  {
   "cell_type": "code",
   "execution_count": 6,
   "metadata": {},
   "outputs": [
    {
     "output_type": "execute_result",
     "data": {
      "text/html": "\n<div id=\"altair-viz-da07b67c0ab14fdba333bb244c18953e\"></div>\n<script type=\"text/javascript\">\n  (function(spec, embedOpt){\n    let outputDiv = document.currentScript.previousElementSibling;\n    if (outputDiv.id !== \"altair-viz-da07b67c0ab14fdba333bb244c18953e\") {\n      outputDiv = document.getElementById(\"altair-viz-da07b67c0ab14fdba333bb244c18953e\");\n    }\n    const paths = {\n      \"vega\": \"https://cdn.jsdelivr.net/npm//vega@5?noext\",\n      \"vega-lib\": \"https://cdn.jsdelivr.net/npm//vega-lib?noext\",\n      \"vega-lite\": \"https://cdn.jsdelivr.net/npm//vega-lite@4.8.1?noext\",\n      \"vega-embed\": \"https://cdn.jsdelivr.net/npm//vega-embed@6?noext\",\n    };\n\n    function loadScript(lib) {\n      return new Promise(function(resolve, reject) {\n        var s = document.createElement('script');\n        s.src = paths[lib];\n        s.async = true;\n        s.onload = () => resolve(paths[lib]);\n        s.onerror = () => reject(`Error loading script: ${paths[lib]}`);\n        document.getElementsByTagName(\"head\")[0].appendChild(s);\n      });\n    }\n\n    function showError(err) {\n      outputDiv.innerHTML = `<div class=\"error\" style=\"color:red;\">${err}</div>`;\n      throw err;\n    }\n\n    function displayChart(vegaEmbed) {\n      vegaEmbed(outputDiv, spec, embedOpt)\n        .catch(err => showError(`Javascript Error: ${err.message}<br>This usually means there's a typo in your chart specification. See the javascript console for the full traceback.`));\n    }\n\n    if(typeof define === \"function\" && define.amd) {\n      requirejs.config({paths});\n      require([\"vega-embed\"], displayChart, err => showError(`Error loading script: ${err.message}`));\n    } else if (typeof vegaEmbed === \"function\") {\n      displayChart(vegaEmbed);\n    } else {\n      loadScript(\"vega\")\n        .then(() => loadScript(\"vega-lite\"))\n        .then(() => loadScript(\"vega-embed\"))\n        .catch(showError)\n        .then(() => displayChart(vegaEmbed));\n    }\n  })({\"config\": {\"view\": {\"continuousWidth\": 400, \"continuousHeight\": 300}}, \"vconcat\": [{\"data\": {\"url\": \"altair-data-7d87c8052bc3bce546c1f1e65f8329ac.csv\", \"format\": {\"type\": \"csv\"}}, \"mark\": \"bar\", \"encoding\": {\"color\": {\"type\": \"nominal\", \"field\": \"Real\", \"legend\": {\"labelExpr\": \"datum.value == 0 ? 'Synthetic' : 'Real'\"}, \"scale\": {\"range\": [\"#af8dc3\", \"#7fbf7b\"]}, \"title\": \"Type\"}, \"opacity\": {\"condition\": {\"value\": 0.5, \"selection\": \"selector003\"}, \"value\": 0}, \"x\": {\"type\": \"nominal\", \"field\": \"Diagnosis\", \"sort\": \"-y\"}, \"y\": {\"type\": \"quantitative\", \"field\": \"prob\", \"stack\": null}}, \"height\": 400, \"selection\": {\"selector003\": {\"type\": \"multi\", \"fields\": [\"Real\"], \"bind\": \"legend\", \"empty\": \"all\"}}, \"title\": \"Diagnosis\", \"width\": 400}, {\"data\": {\"url\": \"altair-data-1cfaed1884d50a22673e1268caf132d0.csv\", \"format\": {\"type\": \"csv\"}}, \"mark\": \"bar\", \"encoding\": {\"color\": {\"type\": \"nominal\", \"field\": \"Real\", \"legend\": {\"labelExpr\": \"datum.value == 0 ? 'Synthetic' : 'Real'\"}, \"scale\": {\"range\": [\"#af8dc3\", \"#7fbf7b\"]}, \"title\": \"Type\"}, \"opacity\": {\"condition\": {\"value\": 0.5, \"selection\": \"selector002\"}, \"value\": 0}, \"x\": {\"type\": \"ordinal\", \"field\": \"YearOfBirth\", \"sort\": null}, \"y\": {\"type\": \"quantitative\", \"field\": \"prob\", \"stack\": null}}, \"height\": 400, \"selection\": {\"selector002\": {\"type\": \"multi\", \"fields\": [\"Real\"], \"bind\": \"legend\", \"empty\": \"all\"}}, \"title\": \"YearOfBirth\", \"width\": 400}, {\"data\": {\"url\": \"altair-data-6d2192c86b87044e8ce11d4b30a18316.csv\", \"format\": {\"type\": \"csv\"}}, \"mark\": \"bar\", \"encoding\": {\"color\": {\"type\": \"nominal\", \"field\": \"Real\", \"legend\": {\"labelExpr\": \"datum.value == 0 ? 'Synthetic' : 'Real'\"}, \"scale\": {\"range\": [\"#af8dc3\", \"#7fbf7b\"]}, \"title\": \"Type\"}, \"opacity\": {\"condition\": {\"value\": 0.5, \"selection\": \"selector001\"}, \"value\": 0}, \"x\": {\"type\": \"nominal\", \"field\": \"Gender\", \"sort\": \"-y\"}, \"y\": {\"type\": \"quantitative\", \"field\": \"prob\", \"stack\": null}}, \"height\": 400, \"selection\": {\"selector001\": {\"type\": \"multi\", \"fields\": [\"Real\"], \"bind\": \"legend\", \"empty\": \"all\"}}, \"title\": \"Gender\", \"width\": 400}, {\"data\": {\"url\": \"altair-data-633ff656cef1dca581759d4b5d978cbe.csv\", \"format\": {\"type\": \"csv\"}}, \"mark\": \"bar\", \"encoding\": {\"color\": {\"type\": \"nominal\", \"field\": \"Real\", \"legend\": {\"labelExpr\": \"datum.value == 0 ? 'Synthetic' : 'Real'\"}, \"scale\": {\"range\": [\"#af8dc3\", \"#7fbf7b\"]}, \"title\": \"Type\"}, \"opacity\": {\"condition\": {\"value\": 0.5, \"selection\": \"selector004\"}, \"value\": 0}, \"x\": {\"type\": \"nominal\", \"field\": \"Allergy\", \"sort\": \"-y\"}, \"y\": {\"type\": \"quantitative\", \"field\": \"prob\", \"stack\": null}}, \"height\": 400, \"selection\": {\"selector004\": {\"type\": \"multi\", \"fields\": [\"Real\"], \"bind\": \"legend\", \"empty\": \"all\"}}, \"title\": \"Allergy\", \"width\": 400}], \"resolve\": {\"scale\": {\"color\": \"independent\", \"opacity\": \"independent\"}}, \"$schema\": \"https://vega.github.io/schema/vega-lite/v4.8.1.json\"}, {\"mode\": \"vega-lite\"});\n</script>",
      "text/plain": "alt.VConcatChart(...)"
     },
     "metadata": {},
     "execution_count": 6
    }
   ],
   "source": [
    "final = alt.vconcat(diagnosis_chart,year_of_birth_chart,gender_chart,allergy_chart,\n",
    "resolve = alt.Resolve(scale=alt.LegendResolveMap(color=alt.ResolveMode('independent'), opacity=alt.ResolveMode('independent'))))\n",
    "final"
   ]
  },
  {
   "cell_type": "code",
   "execution_count": 663,
   "metadata": {},
   "outputs": [],
   "source": [
    "final.save(\"ehr_comp.json\")"
   ]
  }
 ],
 "metadata": {
  "kernelspec": {
   "display_name": "Python 3.7.7 64-bit ('AltairVisualizations': conda)",
   "language": "python",
   "name": "python37764bitaltairvisualizationscondac2b746632fe14dae9ec3e46821d355ae"
  },
  "language_info": {
   "codemirror_mode": {
    "name": "ipython",
    "version": 2
   },
   "file_extension": ".py",
   "mimetype": "text/x-python",
   "name": "python",
   "nbconvert_exporter": "python",
   "pygments_lexer": "ipython2",
   "version": "3.7.7-final"
  },
  "pycharm": {
   "stem_cell": {
    "cell_type": "raw",
    "source": [],
    "metadata": {
     "collapsed": false
    }
   }
  }
 },
 "nbformat": 4,
 "nbformat_minor": 0
}